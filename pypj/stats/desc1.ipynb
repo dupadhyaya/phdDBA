{
 "cells": [
  {
   "cell_type": "markdown",
   "id": "c49c45fd-730e-4b33-b972-3a4e3220b9a8",
   "metadata": {},
   "source": [
    "# Descriptive Stats in Python\n",
    "- https://www.geeksforgeeks.org/statistics-with-python/\n",
    "- https://www.geeksforgeeks.org/python-statistics-median_grouped/?ref=asr5"
   ]
  },
  {
   "cell_type": "markdown",
   "id": "b2bc1483-f2cf-4f8f-8382-7b1adc24e8fb",
   "metadata": {},
   "source": [
    "# Mean\n",
    "- sum of observations divided by the total number of observations. It is also defined as average which is the sum divided by count."
   ]
  },
  {
   "cell_type": "code",
   "execution_count": 3,
   "id": "eebcdec6-d6ea-4b14-a4ff-346b3d389fb7",
   "metadata": {},
   "outputs": [
    {
     "name": "stdout",
     "output_type": "stream",
     "text": [
      "The average of list values is : [1, 2, 3, 3, 2, 2, 2, 1] \t 2\n"
     ]
    }
   ],
   "source": [
    "import statistics \n",
    "\n",
    "# initializing list \n",
    "li = [1, 2, 3, 3, 2, 2, 2, 1] \n",
    "\n",
    "# using mean() to calculate average of list\n",
    "# elements \n",
    "print (\"The average of list values is : \",end=\"\") \n",
    "print (li , '\\t', statistics.mean(li)) "
   ]
  },
  {
   "cell_type": "markdown",
   "id": "dd1f9992-8513-4f31-a715-e17f9786d423",
   "metadata": {},
   "source": [
    "## Median\n",
    "- It is the middle value of the data set. It splits the data into two halves. If the number of elements in the data set is odd then the center element is the median and if it is even then the median would be the average of two central elements. it first sorts the data i=and then performs the median operation\n",
    "- for odd Nos : (n+1)/2\n",
    "- for even Nos : (n/1 + n/2 +1 )2"
   ]
  },
  {
   "cell_type": "code",
   "execution_count": 12,
   "id": "9766cce7-56c3-4bc7-9996-c22c612e7c5d",
   "metadata": {},
   "outputs": [],
   "source": [
    "# importing the statistics module \n",
    "from statistics import median \n",
    "\n",
    "# Importing fractions module as fr \n",
    "from fractions import Fraction as fr \n",
    "\n",
    "# tuple of positive integer numbers \n",
    "data1 = (2, 3, 4, 5, 7, 9, 11) \n",
    "\n",
    "# tuple of floating point values \n",
    "data2 = (2.4, 5.1, 6.7, 8.9) \n",
    "\n",
    "# tuple of fractional numbers \n",
    "data3 = (fr(1, 2), fr(44, 12), fr(10, 3), fr(2, 3)) \n",
    "\n",
    "# tuple of a set of negative integers \n",
    "data4 = (-5, -1, -12, -19, -3) \n",
    "\n",
    "# tuple of set of positive and negative integers \n",
    "data5 = (-1, -2, -3, -4, 4, 3, 2, 1) "
   ]
  },
  {
   "cell_type": "code",
   "execution_count": 13,
   "id": "39057aea-e3c6-4411-b286-e50f3b23557f",
   "metadata": {},
   "outputs": [
    {
     "name": "stdout",
     "output_type": "stream",
     "text": [
      "Median of data-set 1 (2, 3, 4, 5, 7, 9, 11)  is 5\n",
      "Median of data-set 2 (2.4, 5.1, 6.7, 8.9)  is 5.9\n",
      "Median of data-set 3 (Fraction(1, 2), Fraction(11, 3), Fraction(10, 3), Fraction(2, 3))  is 2\n",
      "Median of data-set 4 (-5, -1, -12, -19, -3)  is -5\n",
      "Median of data-set 5 (-1, -2, -3, -4, 4, 3, 2, 1)  is 0.0\n"
     ]
    }
   ],
   "source": [
    "# Printing the median of above datasets \n",
    "print(\"Median of data-set 1\", data1, \" is % s\" % (median(data1))) \n",
    "print(\"Median of data-set 2\", data2, \" is % s\" % (median(data2))) \n",
    "print(\"Median of data-set 3\", data3, \" is % s\" % (median(data3))) \n",
    "print(\"Median of data-set 4\", data4, \" is % s\" % (median(data4))) \n",
    "print(\"Median of data-set 5\", data5, \" is % s\" % (median(data5))) "
   ]
  },
  {
   "cell_type": "markdown",
   "id": "a19df6f9-2eb6-43aa-ad89-83a528458698",
   "metadata": {},
   "source": [
    "## Median - High or Low\n",
    " - The median_high() function returns the median of data in case of odd number of elements, but in case of even number of elements, returns the higher of two middle elements.\n",
    " - The median_low() function returns the median of data in case of odd number of elements, but in case of even number of elements, returns the lower of two middle elements."
   ]
  },
  {
   "cell_type": "code",
   "execution_count": 14,
   "id": "99a8ee46-c209-41d3-ac96-27f93471ba14",
   "metadata": {},
   "outputs": [
    {
     "name": "stdout",
     "output_type": "stream",
     "text": [
      "Median of the set  [1, 3, 3, 4, 5, 7]  is 3.5\n"
     ]
    }
   ],
   "source": [
    "# importing the statistics module \n",
    "import statistics \n",
    "\n",
    "# simple list of a set of integers \n",
    "set1 = [1, 3, 3, 4, 5, 7] \n",
    "# Print median of the data-set \n",
    "# Median value may or may not  lie within the data-set \n",
    "print(\"Median of the set \", set1, \" is %s\"   % (statistics.median(set1))) "
   ]
  },
  {
   "cell_type": "code",
   "execution_count": 15,
   "id": "d3c71e15-ec04-42bf-83be-ddeddec9b3a7",
   "metadata": {},
   "outputs": [
    {
     "name": "stdout",
     "output_type": "stream",
     "text": [
      "Low Median of the set is 3 \n"
     ]
    }
   ],
   "source": [
    "# Print low median of the data-set \n",
    "print(\"Low Median of the set is % s \"  % (statistics.median_low(set1)))"
   ]
  },
  {
   "cell_type": "code",
   "execution_count": 16,
   "id": "3f0fcebb-cab0-499f-9f33-ccd6639561be",
   "metadata": {},
   "outputs": [
    {
     "name": "stdout",
     "output_type": "stream",
     "text": [
      "High Median of the set is 4 \n"
     ]
    }
   ],
   "source": [
    "# Print high median of the data-set \n",
    "print(\"High Median of the set is %s \" % (statistics.median_high(set1))) "
   ]
  },
  {
   "cell_type": "markdown",
   "id": "361c108c-4102-4aca-be27-8559885da19c",
   "metadata": {},
   "source": [
    "## Mode\n",
    "- It is the value that has the highest frequency in the given data set. The data set may have no mode if the frequency of all data points is the same. Also, we can have more than one mode if we encounter two or more data points having the same frequency."
   ]
  },
  {
   "cell_type": "code",
   "execution_count": 17,
   "id": "2b3f64a1-750b-41b2-9d2b-6c3a0df92b35",
   "metadata": {},
   "outputs": [],
   "source": [
    "# Importing the statistics module \n",
    "from statistics import mode \n",
    "\n",
    "# Importing fractions module as fr \n",
    "# Enables to calculate harmonic_mean of a \n",
    "# set in Fraction \n",
    "from fractions import Fraction as fr \n",
    "\n",
    "# tuple of positive integer numbers \n",
    "data1 = (2, 3, 3, 4, 5, 5, 5, 5, 6, 6, 6, 7) \n",
    "\n",
    "# tuple of a set of floating point values \n",
    "data2 = (2.4, 1.3, 1.3, 1.3, 2.4, 4.6) \n",
    "\n",
    "# tuple of a set of fractional numbers \n",
    "data3 = (fr(1, 2), fr(1, 2), fr(10, 3), fr(2, 3)) \n",
    "\n",
    "# tuple of a set of negative integers \n",
    "data4 = (-1, -2, -2, -2, -7, -7, -9) \n",
    "\n",
    "# tuple of strings \n",
    "data5 = (\"red\", \"blue\", \"black\", \"blue\", \"black\", \"black\", \"brown\") "
   ]
  },
  {
   "cell_type": "code",
   "execution_count": 18,
   "id": "ac96c9a0-5720-4780-af9a-133212067f41",
   "metadata": {},
   "outputs": [
    {
     "name": "stdout",
     "output_type": "stream",
     "text": [
      "Mode of data set 1 (2, 3, 3, 4, 5, 5, 5, 5, 6, 6, 6, 7)  is 5\n",
      "Mode of data set 2 (2.4, 1.3, 1.3, 1.3, 2.4, 4.6)  is 1.3\n",
      "Mode of data set 3 (Fraction(1, 2), Fraction(1, 2), Fraction(10, 3), Fraction(2, 3))  is 1/2\n",
      "Mode of data set 4 (-1, -2, -2, -2, -7, -7, -9)  is -2\n",
      "Mode of data set 5 ('red', 'blue', 'black', 'blue', 'black', 'black', 'brown')  is black\n"
     ]
    }
   ],
   "source": [
    "# Printing out the mode of the above data-sets \n",
    "print(\"Mode of data set 1\", data1, \" is % s\" % (mode(data1))) \n",
    "print(\"Mode of data set 2\", data2, \" is % s\" % (mode(data2))) \n",
    "print(\"Mode of data set 3\", data3, \" is % s\" % (mode(data3))) \n",
    "print(\"Mode of data set 4\", data4, \" is % s\" % (mode(data4))) \n",
    "print(\"Mode of data set 5\", data5, \" is % s\" % (mode(data5)))"
   ]
  },
  {
   "cell_type": "markdown",
   "id": "63874d0b-596a-47a6-8c88-16867cca9092",
   "metadata": {},
   "source": [
    "# Variability\n",
    "## Range\n",
    "- Range\n",
    "    - The difference between the largest and smallest data point in our data set is known as the range. The range is directly proportional to the spread of data which means the bigger the range, the more the spread of data and vice versa.\n",
    "    - Range = Largest data value – smallest data value"
   ]
  },
  {
   "cell_type": "code",
   "execution_count": 19,
   "id": "80346e7c-922f-443f-933d-a624700e38a8",
   "metadata": {},
   "outputs": [
    {
     "name": "stdout",
     "output_type": "stream",
     "text": [
      "Maximum = 5, Minimum = 1 and Range = 4\n"
     ]
    }
   ],
   "source": [
    "# Sample Data \n",
    "arr = [1, 2, 3, 4, 5]\n",
    "\n",
    "#Finding Max \n",
    "Maximum = max(arr)\n",
    "# Finding Min \n",
    "Minimum = min(arr) \n",
    "\n",
    "# Difference Of Max and Min\n",
    "Range = Maximum-Minimum     \n",
    "print(\"Maximum = {}, Minimum = {} and Range = {}\".format(Maximum, Minimum, Range)) "
   ]
  },
  {
   "cell_type": "markdown",
   "id": "a19770d7-bb05-4743-ae4c-67d9322be0da",
   "metadata": {},
   "source": [
    "## Variance\n",
    "- It is defined as an average squared deviation from the mean. It is calculated by finding the difference between every data point and the average which is also known as the mean, squaring them, adding all of them, and then dividing by the number of data points present in our data set."
   ]
  },
  {
   "cell_type": "code",
   "execution_count": 20,
   "id": "6036b483-536b-4fb7-aad2-3ae49f39af21",
   "metadata": {},
   "outputs": [],
   "source": [
    "# importing statistics module\n",
    "from statistics import variance\n",
    "\n",
    "# importing fractions as parameter values\n",
    "from fractions import Fraction as fr\n",
    "\n",
    "# tuple of a set of positive integers # numbers are spread apart but not very much\n",
    "sample1 = (1, 2, 5, 4, 8, 9, 12)\n",
    "\n",
    "# tuple of a set of negative integers\n",
    "sample2 = (-2, -4, -3, -1, -5, -6)\n",
    "\n",
    "# tuple of a set of positive and negative numbers # data-points are spread apart considerably\n",
    "sample3 = (-9, -1, -0, 2, 1, 3, 4, 19)\n",
    "\n",
    "# tuple of a set of fractional numbers\n",
    "sample4 = (fr(1, 2), fr(2, 3), fr(3, 4), fr(5, 6), fr(7, 8))\n",
    "\n",
    "# tuple of a set of floating point values\n",
    "sample5 = (1.23, 1.45, 2.1, 2.2, 1.9)"
   ]
  },
  {
   "cell_type": "code",
   "execution_count": 21,
   "id": "d9700c53-d942-471a-8e38-75f5ee6cd4e3",
   "metadata": {},
   "outputs": [
    {
     "name": "stdout",
     "output_type": "stream",
     "text": [
      "Variance of Sample1  (1, 2, 5, 4, 8, 9, 12)  is 15.80952380952381 \n",
      "Variance of Sample2  (-2, -4, -3, -1, -5, -6)  is 3.5 \n",
      "Variance of Sample3  (-9, -1, 0, 2, 1, 3, 4, 19)  is 61.125 \n",
      "Variance of Sample4  (Fraction(1, 2), Fraction(2, 3), Fraction(3, 4), Fraction(5, 6), Fraction(7, 8))  is 1/45 \n",
      "Variance of Sample5  (1.23, 1.45, 2.1, 2.2, 1.9)  is 0.17613000000000006 \n"
     ]
    }
   ],
   "source": [
    "\n",
    "# Print the variance of each samples\n",
    "print(\"Variance of Sample1 \", sample1, \" is % s \" % (variance(sample1)))\n",
    "print(\"Variance of Sample2 \", sample2, \" is % s \" % (variance(sample2)))\n",
    "print(\"Variance of Sample3 \", sample3, \" is % s \" % (variance(sample3)))\n",
    "print(\"Variance of Sample4 \", sample4, \" is % s \" % (variance(sample4)))\n",
    "print(\"Variance of Sample5 \", sample5, \" is % s \" % (variance(sample5)))"
   ]
  },
  {
   "cell_type": "markdown",
   "id": "e5f0610d-c83e-4129-a242-2050466c1079",
   "metadata": {},
   "source": [
    "## Standard Deviation\n",
    "- It is defined as the square root of the variance. It is calculated by finding the Mean, then subtracting each number from the Mean which is also known as the average, and squaring the result. Adding all the values and then dividing by the no of terms followed by the square root."
   ]
  },
  {
   "cell_type": "code",
   "execution_count": 22,
   "id": "1726d8f1-50e8-45fb-ad92-0700c36ed5ca",
   "metadata": {},
   "outputs": [],
   "source": [
    "# function on various range of datasets\n",
    "\n",
    "# importing the statistics module\n",
    "from statistics import stdev\n",
    "\n",
    "# importing fractions as parameter values\n",
    "from fractions import Fraction as fr\n",
    "\n",
    "# creating a varying range of sample sets # numbers are spread apart but not very much\n",
    "sample1 = (1, 2, 5, 4, 8, 9, 12)\n",
    "\n",
    "# tuple of a set of negative integers\n",
    "sample2 = (-2, -4, -3, -1, -5, -6)\n",
    "\n",
    "# tuple of a set of positive and negative numbers # data-points are spread apart considerably\n",
    "sample3 = (-9, -1, -0, 2, 1, 3, 4, 19)\n",
    "\n",
    "# tuple of a set of floating point values\n",
    "sample4 = (1.23, 1.45, 2.1, 2.2, 1.9)"
   ]
  },
  {
   "cell_type": "code",
   "execution_count": 23,
   "id": "d66dc585-1d89-4563-ad58-e79d4b69157e",
   "metadata": {},
   "outputs": [
    {
     "name": "stdout",
     "output_type": "stream",
     "text": [
      "The Standard Deviation of Sample1  (1, 2, 5, 4, 8, 9, 12)  is 3.9761191895520196\n",
      "The Standard Deviation of Sample2  (-2, -4, -3, -1, -5, -6)  is 1.8708286933869707\n",
      "The Standard Deviation of Sample3  (-9, -1, 0, 2, 1, 3, 4, 19)  is 7.8182478855559445\n",
      "The Standard Deviation of Sample4  (1.23, 1.45, 2.1, 2.2, 1.9)  is 0.41967844833872525\n"
     ]
    }
   ],
   "source": [
    "# Print the standard deviation of # following sample sets of observations\n",
    "print(\"The Standard Deviation of Sample1 \", sample1, \" is % s\"  % (stdev(sample1)))\n",
    "print(\"The Standard Deviation of Sample2 \", sample2, \" is % s\"  % (stdev(sample2)))\n",
    "print(\"The Standard Deviation of Sample3 \", sample3, \" is % s\"  % (stdev(sample3)))\n",
    "print(\"The Standard Deviation of Sample4 \", sample4, \" is % s\" % (stdev(sample4)))"
   ]
  },
  {
   "cell_type": "markdown",
   "id": "e495b115-7aa8-47bf-9812-1cdc1afa78c7",
   "metadata": {},
   "source": [
    "# Grouped Stats\n",
    "- https://www.geeksforgeeks.org/scipy-stats-gmean-function-python/?ref=ml_lbp"
   ]
  },
  {
   "cell_type": "code",
   "execution_count": null,
   "id": "b16ba720-dd8d-45ad-9597-c301cace4840",
   "metadata": {},
   "outputs": [],
   "source": []
  }
 ],
 "metadata": {
  "kernelspec": {
   "display_name": "Python 3 (ipykernel)",
   "language": "python",
   "name": "python3"
  },
  "language_info": {
   "codemirror_mode": {
    "name": "ipython",
    "version": 3
   },
   "file_extension": ".py",
   "mimetype": "text/x-python",
   "name": "python",
   "nbconvert_exporter": "python",
   "pygments_lexer": "ipython3",
   "version": "3.11.8"
  }
 },
 "nbformat": 4,
 "nbformat_minor": 5
}
