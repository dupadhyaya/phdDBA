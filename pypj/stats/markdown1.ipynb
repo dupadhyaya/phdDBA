{
 "cells": [
  {
   "cell_type": "markdown",
   "id": "b6cb0afe-52eb-4dac-96b3-63092efc576c",
   "metadata": {},
   "source": [
    "# Mardown\n",
    "- https://medium.com/analytics-vidhya/the-ultimate-markdown-guide-for-jupyter-notebook-d5e5abf728fd"
   ]
  },
  {
   "cell_type": "markdown",
   "id": "7acee48d-786b-4768-95a1-97775b3ca173",
   "metadata": {},
   "source": [
    "**This is bold text**  \n",
    "__This is bold text__"
   ]
  },
  {
   "cell_type": "code",
   "execution_count": null,
   "id": "467f5138-780d-4808-9f7d-4cb53429eb5e",
   "metadata": {},
   "outputs": [],
   "source": []
  },
  {
   "cell_type": "markdown",
   "id": "ff00d8f3-e227-47fe-96b3-fd54e35d903c",
   "metadata": {},
   "source": [
    "*This is italic text*  \n",
    "_This is italic text_"
   ]
  },
  {
   "cell_type": "code",
   "execution_count": null,
   "id": "bcdc2119-27c8-4ee1-a234-bd00664789e3",
   "metadata": {},
   "outputs": [],
   "source": []
  },
  {
   "cell_type": "markdown",
   "id": "830d03a5-94cb-4105-8d50-6cf11dbd6be2",
   "metadata": {},
   "source": [
    "***Bold and Italic***  \n",
    "___Bold and Italic___"
   ]
  },
  {
   "cell_type": "code",
   "execution_count": null,
   "id": "586c159f-5b81-4251-9439-8c249161fafc",
   "metadata": {},
   "outputs": [],
   "source": []
  },
  {
   "cell_type": "markdown",
   "id": "3b7f79d9-fd03-4a20-aab3-d6bff1c2f6b0",
   "metadata": {},
   "source": [
    "- this is DU title\n",
    "<a id=\"DUtitle\"></a>"
   ]
  },
  {
   "cell_type": "markdown",
   "id": "d1c80369-c57e-4fbb-aec7-8d54b3a6a85e",
   "metadata": {},
   "source": [
    "~~Scratchthis~~"
   ]
  },
  {
   "cell_type": "code",
   "execution_count": null,
   "id": "f5f14529-a25f-49e3-939b-d3dfbbee461a",
   "metadata": {},
   "outputs": [],
   "source": []
  },
  {
   "cell_type": "markdown",
   "id": "7f4a9dc6-4a64-4b75-8645-22558d5c2c12",
   "metadata": {},
   "source": [
    "\\# Not a header"
   ]
  },
  {
   "cell_type": "markdown",
   "id": "bbce4064-458e-4ac3-a3fe-cd9e8399b238",
   "metadata": {},
   "source": [
    "# Paragraph\n",
    "- A paragraph is simply one or more consecutive lines of text, separated by one or more blank lines."
   ]
  },
  {
   "cell_type": "markdown",
   "id": "e0185c2c-3af1-431e-8767-68de3a13abff",
   "metadata": {},
   "source": [
    "Hello World!\n",
    "We are learning Markdown."
   ]
  },
  {
   "cell_type": "markdown",
   "id": "a604de65-7254-49b8-8ceb-53c401c8aea1",
   "metadata": {},
   "source": [
    "# Empty Line\n",
    "- To force a line return, place two or more empty spaces at the end of a line and press the Enter key."
   ]
  },
  {
   "cell_type": "markdown",
   "id": "e05eba36-59d6-4c45-a15e-14be4d8d261c",
   "metadata": {},
   "source": [
    "Some text  \n",
    "Some more text  "
   ]
  },
  {
   "cell_type": "markdown",
   "id": "bbaf80e1-fc4f-45f7-b4be-b1cb0d16a306",
   "metadata": {},
   "source": [
    "## BLOCKQUOTES\n",
    "- Blockquotes can hold the large chunk of text and are generally indented."
   ]
  },
  {
   "cell_type": "markdown",
   "id": "2c0b98a2-c714-477e-b912-4b1c8fae785c",
   "metadata": {},
   "source": [
    "> This is a blockquote"
   ]
  },
  {
   "cell_type": "markdown",
   "id": "64f7f108-4ce2-4c06-8174-415b0f289da3",
   "metadata": {},
   "source": [
    "## NESTED BLOCK QUOTING"
   ]
  },
  {
   "cell_type": "markdown",
   "id": "efc53763-ecec-49ba-a910-e2f195d991c3",
   "metadata": {},
   "source": [
    "> some text\n",
    ">> and then some more text\n",
    ">>> and then some more"
   ]
  },
  {
   "cell_type": "markdown",
   "id": "902baa63-62d5-44e4-8092-91f570a7c68a",
   "metadata": {},
   "source": [
    "## HORIZONTAL LINE\n"
   ]
  },
  {
   "cell_type": "markdown",
   "id": "f8c690a6-ab97-4306-8367-602b64cb4a44",
   "metadata": {},
   "source": [
    "---\n",
    "___\n",
    "***"
   ]
  },
  {
   "cell_type": "markdown",
   "id": "a9ad49fa-5b36-4453-a501-2190253f36c4",
   "metadata": {},
   "source": [
    "## ORDERED LIST\n",
    "- The Ordered List is a numbered list.\n",
    "- Note: Numbering is irrelevant"
   ]
  },
  {
   "cell_type": "markdown",
   "id": "7f7ebfd9-9271-4f39-9e51-fba6edbc81f2",
   "metadata": {},
   "source": [
    "1. Cheese\n",
    "2. Carrot\n",
    "3. Coconut"
   ]
  },
  {
   "cell_type": "markdown",
   "id": "808cbb94-cf16-4be7-a623-7f0da3b7e16c",
   "metadata": {},
   "source": [
    "## UNORDERED LIST\n",
    "- The Unordered list is a bullet list."
   ]
  },
  {
   "cell_type": "markdown",
   "id": "78ac05db-4abb-4322-a7b4-e35b4afdb95b",
   "metadata": {},
   "source": [
    "- Cheese\n",
    "- Carrot\n",
    "- Coconut"
   ]
  },
  {
   "cell_type": "markdown",
   "id": "994eddc9-18b9-4e33-9782-e5a02843d500",
   "metadata": {},
   "source": [
    "## GRAPHICS\n",
    "- You can attach graphics (such as images) to a notebook in Markdown cells.\n",
    "- Note1: You can also Drag and Drop your images to the Markdown cell to attach it to the notebook.\n",
    "\n"
   ]
  },
  {
   "cell_type": "markdown",
   "id": "e45529e1-bd28-4613-9383-e9e8928747c7",
   "metadata": {},
   "source": [
    "![](https://www.python.org/static/community_logos/python-logo-master-v3-TM.png)"
   ]
  },
  {
   "cell_type": "markdown",
   "id": "ae0050f4-79aa-44e3-b360-606bba704d13",
   "metadata": {},
   "source": [
    "![](https://www.python.org/static/community_logos/python-logo-master-v3-TM.png 'Python Logo by Dhiraj')"
   ]
  },
  {
   "cell_type": "markdown",
   "id": "c2e08523-c26f-4e8d-998e-03a789da8be1",
   "metadata": {},
   "source": [
    "## HYPERLINKS\n",
    "- AUTOMATIC LINKS"
   ]
  },
  {
   "cell_type": "markdown",
   "id": "208fd4e6-96f5-4a04-8030-8a21fa9f9043",
   "metadata": {},
   "source": [
    "https://en.wikipedia.org"
   ]
  },
  {
   "cell_type": "markdown",
   "id": "493cbfaa-ed7d-4725-aae3-de576999c5c3",
   "metadata": {},
   "source": [
    "[click me](https://en.wikipedia.org)"
   ]
  },
  {
   "cell_type": "markdown",
   "id": "fb3910e4-aeee-460a-b939-bfab3697cd57",
   "metadata": {},
   "source": [
    "[click me](https://en.wikipedia.org \"Wikipedia\")\n",
    "- STANDARD LINKS (WITH MOUSE-OVER TITLES)"
   ]
  },
  {
   "cell_type": "markdown",
   "id": "571f426e-5ee3-4123-97a5-8bc2c41653c9",
   "metadata": {},
   "source": [
    "This is [a reference][id]\n",
    "[id]: https://en.wikipedia.org \"Wikipedia\"\n",
    "- Reference Style"
   ]
  },
  {
   "cell_type": "markdown",
   "id": "84633649-17cc-4363-9025-10cec02eda71",
   "metadata": {},
   "source": [
    "## Anchor"
   ]
  },
  {
   "cell_type": "markdown",
   "id": "04fe1320-2a10-4489-8cff-cdde3f50c480",
   "metadata": {},
   "source": [
    "<a id=\"id\"></a>\n",
    "- this is the section"
   ]
  },
  {
   "cell_type": "markdown",
   "id": "9b23c013-a2bd-4e20-8ca6-0b8240da612d",
   "metadata": {},
   "source": [
    "[Section title](#id)"
   ]
  },
  {
   "cell_type": "markdown",
   "id": "22b49627-caee-475e-812a-adff4350ad57",
   "metadata": {},
   "source": [
    "If you have a section with the heading — My Great Heading then to add an anchor link to this section, simply add a hyphen in place of the blank space like below"
   ]
  },
  {
   "cell_type": "markdown",
   "id": "4cf39323-2851-4de3-8e36-0dd5596cca5d",
   "metadata": {},
   "source": [
    "[DUtitle](#Dhiraj-Upadhyaya-Python)\n",
    "- not working"
   ]
  },
  {
   "cell_type": "markdown",
   "id": "eb85aad1-d5e5-4c04-9fe1-ca67c8f19ba7",
   "metadata": {},
   "source": [
    "## Task List\n"
   ]
  },
  {
   "cell_type": "markdown",
   "id": "4fb9a228-1fd9-4cc7-bb05-c2d774a58d32",
   "metadata": {},
   "source": [
    "- [x] Some task\n",
    "- [ ] Some more task"
   ]
  },
  {
   "cell_type": "markdown",
   "id": "8e9f85c3-911e-467f-b626-36c8305b1ba2",
   "metadata": {},
   "source": [
    "## Code Section"
   ]
  },
  {
   "cell_type": "markdown",
   "id": "a41ca7f9-a1a4-462f-88a7-d5e95a65329c",
   "metadata": {},
   "source": [
    "`some piece of inline code`\n",
    "```\n",
    "some piece of block code\n",
    "```"
   ]
  },
  {
   "cell_type": "markdown",
   "id": "05e94aba-1280-41c7-ba4c-b213bd2c6d50",
   "metadata": {},
   "source": [
    "## TABLE\n",
    "- A table can be constructed using | (pipe symbol) and — (dash) to mark columns and rows.\n",
    "- Use :-: for centered\n",
    "- Use — for right centered\n",
    "- Use :- for left centered"
   ]
  },
  {
   "cell_type": "markdown",
   "id": "3c699828-fb29-4db7-a7ae-8f4a800eff38",
   "metadata": {},
   "source": [
    "|RollNo | Name | Gender|\n",
    "|-------|------|-------|\n",
    "|101|Dhiraj|M|\n",
    "|102|GK|M|"
   ]
  },
  {
   "cell_type": "code",
   "execution_count": null,
   "id": "d0435135-c283-4e41-a618-6e1094834dd1",
   "metadata": {},
   "outputs": [],
   "source": []
  }
 ],
 "metadata": {
  "kernelspec": {
   "display_name": "Python 3 (ipykernel)",
   "language": "python",
   "name": "python3"
  },
  "language_info": {
   "codemirror_mode": {
    "name": "ipython",
    "version": 3
   },
   "file_extension": ".py",
   "mimetype": "text/x-python",
   "name": "python",
   "nbconvert_exporter": "python",
   "pygments_lexer": "ipython3",
   "version": "3.11.8"
  }
 },
 "nbformat": 4,
 "nbformat_minor": 5
}
