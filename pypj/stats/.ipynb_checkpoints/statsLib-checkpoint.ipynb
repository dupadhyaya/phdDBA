{
 "cells": [
  {
   "cell_type": "code",
   "execution_count": null,
   "id": "9bcaf5b4-71e6-4db6-a532-260c176caf54",
   "metadata": {},
   "outputs": [],
   "source": [
    "# Stats Libraries"
   ]
  },
  {
   "cell_type": "code",
   "execution_count": null,
   "id": "f7396569-672b-4fdf-8599-995e7254a39f",
   "metadata": {},
   "outputs": [],
   "source": []
  },
  {
   "cell_type": "code",
   "execution_count": null,
   "id": "174e725e-4930-4972-b7ff-0bc6dc06604c",
   "metadata": {},
   "outputs": [],
   "source": []
  },
  {
   "cell_type": "markdown",
   "id": "c8b4d238-7685-4778-89cc-00045be30642",
   "metadata": {},
   "source": [
    "# Statistics module\n",
    "- statistics.harmonic_mean()\tCalculates the harmonic mean (central location) of the given data\n",
    "- statistics.mean()\tCalculates the mean (average) of the given data\n",
    "- statistics.median()\tCalculates the median (middle value) of the given data\n",
    "- statistics.median_grouped()\tCalculates the median of grouped continuous data\n",
    "- statistics.median_high()\tCalculates the high median of the given data\n",
    "- statistics.median_low()\tCalculates the low median of the given data\n",
    "- statistics.mode()\tCalculates the mode (central tendency) of the given numeric or nominal data\n",
    "- statistics.pstdev()\tCalculates the standard deviation from an entire population\n",
    "- statistics.stdev()\tCalculates the standard deviation from a sample of data\n",
    "- statistics.pvariance()\tCalculates the variance of an entire population\n",
    "- statistics.variance()\tCalculates the variance from a sample of data"
   ]
  },
  {
   "cell_type": "markdown",
   "id": "994bae92-963e-4db2-947d-c0603cf9ef41",
   "metadata": {},
   "source": [
    "## Maths Module : Method\tDescription\n",
    "- math.acos()\tReturns the arc cosine of a number\n",
    "- math.acosh()\tReturns the inverse hyperbolic cosine of a number\n",
    "- math.asin()\tReturns the arc sine of a number\n",
    "- math.asinh()\tReturns the inverse hyperbolic sine of a number\n",
    "- math.atan()\tReturns the arc tangent of a number in radians\n",
    "- math.atan2()\tReturns the arc tangent of y/x in radians\n",
    "- math.atanh()\tReturns the inverse hyperbolic tangent of a number\n",
    "- math.ceil()\tRounds a number up to the nearest integer\n",
    "- math.comb()\tReturns the number of ways to choose k items from n items without repetition and order\n",
    "- math.copysign()\tReturns a float consisting of the value of the first parameter and the sign of the second parameter\n",
    "- math.cos()\tReturns the cosine of a number\n",
    "math.cosh()\tReturns the hyperbolic cosine of a number\n",
    "math.degrees()\tConverts an angle from radians to degrees\n",
    "math.dist()\tReturns the Euclidean distance between two points (p and q), where p and q are the coordinates of that point\n",
    "math.erf()\tReturns the error function of a number\n",
    "math.erfc()\tReturns the complementary error function of a number\n",
    "math.exp()\tReturns E raised to the power of x\n",
    "math.expm1()\tReturns Ex - 1\n",
    "math.fabs()\tReturns the absolute value of a number\n",
    "math.factorial()\tReturns the factorial of a number\n",
    "math.floor()\tRounds a number down to the nearest integer\n",
    "math.fmod()\tReturns the remainder of x/y\n",
    "math.frexp()\tReturns the mantissa and the exponent, of a specified number\n",
    "math.fsum()\tReturns the sum of all items in any iterable (tuples, arrays, lists, etc.)\n",
    "math.gamma()\tReturns the gamma function at x\n",
    "math.gcd()\tReturns the greatest common divisor of two integers\n",
    "math.hypot()\tReturns the Euclidean norm\n",
    "math.isclose()\tChecks whether two values are close to each other, or not\n",
    "math.isfinite()\tChecks whether a number is finite or not\n",
    "math.isinf()\tChecks whether a number is infinite or not\n",
    "math.isnan()\tChecks whether a value is NaN (not a number) or not\n",
    "math.isqrt()\tRounds a square root number downwards to the nearest integer\n",
    "math.ldexp()\tReturns the inverse of math.frexp() which is x * (2**i) of the given numbers x and i\n",
    "math.lgamma()\tReturns the log gamma value of x\n",
    "math.log()\tReturns the natural logarithm of a number, or the logarithm of number to base\n",
    "math.log10()\tReturns the base-10 logarithm of x\n",
    "math.log1p()\tReturns the natural logarithm of 1+x\n",
    "math.log2()\tReturns the base-2 logarithm of x\n",
    "math.perm()\tReturns the number of ways to choose k items from n items with order and without repetition\n",
    "math.pow()\tReturns the value of x to the power of y\n",
    "math.prod()\tReturns the product of all the elements in an iterable\n",
    "math.radians()\tConverts a degree value into radians\n",
    "math.remainder()\tReturns the closest value that can make numerator completely divisible by the denominator\n",
    "math.sin()\tReturns the sine of a number\n",
    "math.sinh()\tReturns the hyperbolic sine of a number\n",
    "math.sqrt()\tReturns the square root of a number\n",
    "math.tan()\tReturns the tangent of a number\n",
    "math.tanh()\tReturns the hyperbolic tangent of a number\n",
    "math.trunc()\tReturns the truncated integer parts of a number\n",
    "## Math Constants\n",
    "Constant\tDescription\n",
    "math.e\tReturns Euler's number (2.7182...)\n",
    "math.inf\tReturns a floating-point positive infinity\n",
    "math.nan\tReturns a floating-point NaN (Not a Number) value\n",
    "math.pi\tReturns PI (3.1415...)\n",
    "math.tau\tReturns tau (6.2831...)"
   ]
  },
  {
   "cell_type": "code",
   "execution_count": null,
   "id": "5d95387d-2ee7-43c5-b29f-c8cb8e361eef",
   "metadata": {},
   "outputs": [],
   "source": []
  }
 ],
 "metadata": {
  "kernelspec": {
   "display_name": "Python 3 (ipykernel)",
   "language": "python",
   "name": "python3"
  },
  "language_info": {
   "codemirror_mode": {
    "name": "ipython",
    "version": 3
   },
   "file_extension": ".py",
   "mimetype": "text/x-python",
   "name": "python",
   "nbconvert_exporter": "python",
   "pygments_lexer": "ipython3",
   "version": "3.11.5"
  }
 },
 "nbformat": 4,
 "nbformat_minor": 5
}
