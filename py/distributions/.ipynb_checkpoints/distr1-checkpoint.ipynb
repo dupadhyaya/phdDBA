{
 "cells": [
  {
   "cell_type": "markdown",
   "id": "07d2f7bd-6847-43af-a46b-92d60a56545e",
   "metadata": {},
   "source": [
    "# Distributions\n",
    "- https://media.licdn.com/dms/document/media/D4D1FAQE5PuZxAoyNsg/feedshare-document-pdf-analyzed/0/1726088098655?e=1727308800&v=beta&t=pRc_3gFNgxA87GWsaB0l6HE_YzBANAh6o1w874jU_QA"
   ]
  },
  {
   "cell_type": "code",
   "execution_count": 17,
   "id": "a07a63d1-81fa-4030-8648-13fb2d7b8904",
   "metadata": {},
   "outputs": [],
   "source": [
    "import numpy as np\n",
    "import pandas as pd"
   ]
  },
  {
   "cell_type": "markdown",
   "id": "1e9431f7-56b1-451d-b691-af2a98042c2f",
   "metadata": {},
   "source": [
    "## Permutations/ Combinations"
   ]
  },
  {
   "cell_type": "code",
   "execution_count": 2,
   "id": "7e799aa5-bafc-4685-8c5a-49ce853ac5d6",
   "metadata": {},
   "outputs": [],
   "source": [
    "from itertools import permutations"
   ]
  },
  {
   "cell_type": "code",
   "execution_count": 9,
   "id": "e6458d22-5667-4356-9d06-1ead041c8b03",
   "metadata": {},
   "outputs": [],
   "source": [
    "# Qs - How many permutations of length k=3 can be formed from the elements A, B, C and D "
   ]
  },
  {
   "cell_type": "code",
   "execution_count": 4,
   "id": "f6678daf-dac2-44f0-ace6-8160fbaf6f8c",
   "metadata": {},
   "outputs": [],
   "source": [
    "p1 = list (permutations( ['A', 'B', 'C', 'D'], 3))"
   ]
  },
  {
   "cell_type": "code",
   "execution_count": 12,
   "id": "a9bc849b-e85c-4907-85cf-b13d7e2f5b1f",
   "metadata": {},
   "outputs": [
    {
     "data": {
      "text/plain": [
       "[('A', 'B', 'C'),\n",
       " ('A', 'B', 'D'),\n",
       " ('A', 'C', 'B'),\n",
       " ('A', 'C', 'D'),\n",
       " ('A', 'D', 'B'),\n",
       " ('A', 'D', 'C'),\n",
       " ('B', 'A', 'C'),\n",
       " ('B', 'A', 'D'),\n",
       " ('B', 'C', 'A'),\n",
       " ('B', 'C', 'D'),\n",
       " ('B', 'D', 'A'),\n",
       " ('B', 'D', 'C'),\n",
       " ('C', 'A', 'B'),\n",
       " ('C', 'A', 'D'),\n",
       " ('C', 'B', 'A'),\n",
       " ('C', 'B', 'D'),\n",
       " ('C', 'D', 'A'),\n",
       " ('C', 'D', 'B'),\n",
       " ('D', 'A', 'B'),\n",
       " ('D', 'A', 'C'),\n",
       " ('D', 'B', 'A'),\n",
       " ('D', 'B', 'C'),\n",
       " ('D', 'C', 'A'),\n",
       " ('D', 'C', 'B')]"
      ]
     },
     "execution_count": 12,
     "metadata": {},
     "output_type": "execute_result"
    }
   ],
   "source": [
    "p1   #sets are not unique"
   ]
  },
  {
   "cell_type": "code",
   "execution_count": 13,
   "id": "afbc8d10-8a0f-4a46-a5bb-70d386462c34",
   "metadata": {},
   "outputs": [],
   "source": [
    "# Qs - A biscuit in a vending machine cost 85 cents. In how many ways can a customer put 2 quarters, 3 dimes and 1 nickel \n",
    "# Given a set of elements A, B, C and D list the combinations of unique elements of size 2"
   ]
  },
  {
   "cell_type": "code",
   "execution_count": 14,
   "id": "ca317b0b-dfb2-442c-a926-9f7287f47bfd",
   "metadata": {},
   "outputs": [],
   "source": [
    "from itertools import combinations\n",
    "c1 =list( combinations([\"A\", \"B\", \"C\", \"D\"], 2) )"
   ]
  },
  {
   "cell_type": "code",
   "execution_count": 15,
   "id": "e0e35184-46d0-42a2-af9c-410e37bd770e",
   "metadata": {},
   "outputs": [
    {
     "data": {
      "text/plain": [
       "[('A', 'B'), ('A', 'C'), ('A', 'D'), ('B', 'C'), ('B', 'D'), ('C', 'D')]"
      ]
     },
     "execution_count": 15,
     "metadata": {},
     "output_type": "execute_result"
    }
   ],
   "source": [
    "c1  # all are unique"
   ]
  },
  {
   "cell_type": "markdown",
   "id": "2fe75afe-2ceb-4f24-a768-4daa3f1d64da",
   "metadata": {},
   "source": [
    "## Random Variables\n",
    "- A random variable is a variable therefore can assume different values; however, the value depends on\n",
    "the outcome of a chance experiment\n",
    "- Types\n",
    "    -  Discrete: Takes values from either a finite set or a countably infinite set.\n",
    "    -  Continuous: Takes values from uncountably infinite number of outcomes, i.e. all numbers in a single interval on the number line.\n",
    "## Expected Value\n",
    "-  Most frequently used statistical measure to describe central tendency"
   ]
  },
  {
   "cell_type": "markdown",
   "id": "8601b1d5-1796-4d45-b1e4-a2b32d7c048e",
   "metadata": {},
   "source": [
    "-  courses a student registered in a university with 15,000 students.  Find the average number of courses per studen\n",
    "-  Subjects :  1   2   3    4    5    6    7\n",
    "-  Students : 150 450 1950 3750 5850 2550 300"
   ]
  },
  {
   "cell_type": "markdown",
   "id": "3cf4f6b7-e68a-43e8-8de1-9728d252cb06",
   "metadata": {},
   "source": [
    "## Variance\n",
    "- expected value is an effective statistical measure of central tendency, it gives no information about the spreadout of a probability density function. Although the spread can be\n",
    "calculated using X-μ, it is immediately noted that negative deviations will cancel positive ones.\n",
    "- The variance of a random variable is defined as the expected value of its squared deviations."
   ]
  },
  {
   "cell_type": "code",
   "execution_count": 18,
   "id": "042e0e4b-fe0a-4bc6-8b41-e0378118b811",
   "metadata": {},
   "outputs": [],
   "source": [
    "import statistics as stat\n",
    "x= np.array([4, 7, 6, 2, 7, 6]) #arbitrary numbers"
   ]
  },
  {
   "cell_type": "code",
   "execution_count": 19,
   "id": "17c12081-ee22-412c-8795-c0332e85ad21",
   "metadata": {},
   "outputs": [
    {
     "data": {
      "text/plain": [
       "array([4, 7, 6, 2, 7, 6])"
      ]
     },
     "execution_count": 19,
     "metadata": {},
     "output_type": "execute_result"
    }
   ],
   "source": [
    "x"
   ]
  },
  {
   "cell_type": "code",
   "execution_count": 24,
   "id": "fc8ab558-5536-426f-9153-f6e82d69dfdd",
   "metadata": {},
   "outputs": [],
   "source": [
    "#returns sample variance\n",
    "varS1 = stat.variance(x.tolist())\n",
    "varS2 = np.var(x, ddof=1) #notice ddof=1"
   ]
  },
  {
   "cell_type": "code",
   "execution_count": 26,
   "id": "9cf65eb8-f7ec-4d2c-9cda-dec75843da06",
   "metadata": {},
   "outputs": [
    {
     "name": "stdout",
     "output_type": "stream",
     "text": [
      "3.8666666666666667 3.8666666666666663\n"
     ]
    }
   ],
   "source": [
    "print(varS1, varS2)"
   ]
  },
  {
   "cell_type": "code",
   "execution_count": 27,
   "id": "ad56dec7-a680-4f0a-8b14-31a6b9914512",
   "metadata": {},
   "outputs": [
    {
     "data": {
      "text/plain": [
       "3.222222222222222"
      ]
     },
     "execution_count": 27,
     "metadata": {},
     "output_type": "execute_result"
    }
   ],
   "source": [
    "# Using Equation\n",
    "EX, EX2 = np.mean(x), np.mean(x**2)\n",
    "varEq = EX2 - EX**2\n",
    "varP = np.var(x, ddof=0) #notice ddof=0\n",
    "varP"
   ]
  },
  {
   "cell_type": "code",
   "execution_count": 28,
   "id": "4a4db4a7-ea6f-4780-879c-1dad090bf371",
   "metadata": {},
   "outputs": [
    {
     "name": "stdout",
     "output_type": "stream",
     "text": [
      "Sample: statistics pkg= 3.8666666666666667 and Numpy=3.8666666666666663\n"
     ]
    }
   ],
   "source": [
    "print(f\"Sample: statistics pkg= {varS1} and Numpy={varS2}\")"
   ]
  },
  {
   "cell_type": "code",
   "execution_count": 29,
   "id": "3c602ee1-b319-4b7d-abcc-8adcabeeb351",
   "metadata": {},
   "outputs": [
    {
     "name": "stdout",
     "output_type": "stream",
     "text": [
      "Population: Equation= 3.222222222222225 and Numpy=3.222222222222222\n"
     ]
    }
   ],
   "source": [
    "print(f\"Population: Equation= {varEq} and Numpy={varP}\")"
   ]
  },
  {
   "cell_type": "markdown",
   "id": "bc185719-a75e-4eb9-ac06-222792080b1c",
   "metadata": {},
   "source": [
    "- the number of samples (x) was intentionally kept low to see the difference between sample\n",
    "and population variance since for large samples the difference becomes negligible. "
   ]
  },
  {
   "cell_type": "code",
   "execution_count": null,
   "id": "2e26df8c-e661-4eef-8cbb-14edfbd910a0",
   "metadata": {},
   "outputs": [],
   "source": []
  }
 ],
 "metadata": {
  "kernelspec": {
   "display_name": "Python 3 (ipykernel)",
   "language": "python",
   "name": "python3"
  },
  "language_info": {
   "codemirror_mode": {
    "name": "ipython",
    "version": 3
   },
   "file_extension": ".py",
   "mimetype": "text/x-python",
   "name": "python",
   "nbconvert_exporter": "python",
   "pygments_lexer": "ipython3",
   "version": "3.11.5"
  }
 },
 "nbformat": 4,
 "nbformat_minor": 5
}
